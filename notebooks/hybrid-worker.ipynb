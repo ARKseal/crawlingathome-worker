{
 "cells": [
  {
   "cell_type": "code",
   "execution_count": null,
   "metadata": {},
   "outputs": [],
   "source": [
    "#@title Crawling@Home Worker Colab\n",
    "YOUR_NICKNAME_FOR_THE_LEADERBOARD = \"ARKseal\" #@param {type:\"string\"}\n",
    "CRAWLINGATHOME_SERVER_URL = \"http://cah.io.community/\" #@param {type:\"string\"}"
   ]
  },
  {
   "cell_type": "code",
   "execution_count": null,
   "metadata": {},
   "outputs": [],
   "source": [
    "! rm setup; wget https://raw.githubusercontent.com/ARKseal/crawlingathome-worker/master/setup/setup_colab_hybrid.sh -O setup.sh\n",
    "! source setup.sh"
   ]
  },
  {
   "cell_type": "code",
   "execution_count": null,
   "metadata": {},
   "outputs": [],
   "source": [
    "! export PYTHONHASHSEED=0 && python3 ./crawlingathome.py --name '{YOUR_NICKNAME_FOR_THE_LEADERBOARD}' --url '{CRAWLINGATHOME_SERVER_URL}' --notebook"
   ]
  }
 ],
 "metadata": {
  "interpreter": {
   "hash": "7b47fd11719e6a2754cf258c244b3de2ee50697b576fe3e5ad5f917bb669a6e4"
  },
  "kernelspec": {
   "display_name": "Python 3.8.9 64-bit ('crawl-env': venv)",
   "name": "python3"
  },
  "language_info": {
   "name": "python",
   "version": ""
  },
  "orig_nbformat": 4
 },
 "nbformat": 4,
 "nbformat_minor": 2
}
