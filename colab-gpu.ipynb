{
 "metadata": {
  "language_info": {
   "codemirror_mode": {
    "name": "ipython",
    "version": 3
   },
   "file_extension": ".py",
   "mimetype": "text/x-python",
   "name": "python",
   "nbconvert_exporter": "python",
   "pygments_lexer": "ipython3",
   "version": 3
  },
  "orig_nbformat": 4
 },
 "nbformat": 4,
 "nbformat_minor": 2,
 "cells": [
  {
   "cell_type": "code",
   "execution_count": null,
   "metadata": {},
   "outputs": [],
   "source": [
    "YOUR_NICKNAME_FOR_THE_LEADERBOARD = \"ARKseal gpu colab\"\n",
    "CRAWLINGATHOME_SERVER_URL = \"http://crawlingathome.duckdns.org/\""
   ]
  },
  {
   "cell_type": "code",
   "execution_count": null,
   "metadata": {},
   "outputs": [],
   "source": [
    "import subprocess\n",
    " \n",
    "CUDA_version = [s for s in subprocess.check_output([\"nvcc\", \"--version\"]).decode(\"UTF-8\").split(\", \") if s.startswith(\"release\")][0].split(\" \")[-1]\n",
    "print(\"CUDA version:\", CUDA_version)\n",
    " \n",
    "if CUDA_version == \"10.0\":\n",
    "    torch_version_suffix = \"+cu100\"\n",
    "elif CUDA_version == \"10.1\":\n",
    "    torch_version_suffix = \"+cu101\"\n",
    "elif CUDA_version == \"10.2\":\n",
    "    torch_version_suffix = \"+cu101\"\n",
    "else:\n",
    "    torch_version_suffix = \"+cu110\""
   ]
  },
  {
   "cell_type": "code",
   "execution_count": null,
   "metadata": {},
   "outputs": [],
   "source": [
    "from pathlib import Path\n",
    "\n",
    "ready_file = Path(\"/content/ready\")\n",
    "\n",
    "if not ready_file.exists():\n",
    "    ! sudo apt update && sudo apt install -y git build-essential python3-dev python3-pip python3-venv libjpeg-dev\n",
    "\n",
    "    ! git clone \"https://github.com/TheoCoombes/crawlingathome\" crawlingathome_client\n",
    "    ! pip install torch==1.7.1{torch_version_suffix} torchvision==0.8.2{torch_version_suffix} -f https://download.pytorch.org/whl/torch_stable.html\n",
    "    ! pip3 install -r crawlingathome_client/requirements.txt --no-cache-dir\n",
    "    # ! pip3 install git+https://github.com/rvencu/asks # breaks in colab\n",
    "    ! rm requirements.txt blocklist-domain.txt\n",
    "    ! wget https://raw.githubusercontent.com/rvencu/crawlingathome-worker/colab-mod-asks/requirements.txt\n",
    "    ! pip3 install -r ./requirements.txt --no-cache-dir\n",
    "\n",
    "    ! pip3 install datasets ftfy pandas pycld2 regex tfr_image tractor trio ujson\n",
    "    ! pip3 install tensorflow --no-cache-dir\n",
    "    ! pip3 install git+https://github.com/openai/CLIP --no-cache-dir\n",
    "\n",
    "    ! pip3 install -U --force-reinstall pdbpp\n",
    "    ! pip3 install --force-reinstall msgpack==1.0.1\n",
    "\n",
    "    ! yes | pip3 uninstall pillow\n",
    "    ! CC=\"cc -mavx2\" pip3 install -U --force-reinstall pillow-simd\n",
    "\n",
    "    ! wget https://raw.githubusercontent.com/Wikidepia/crawlingathome-worker/master/blocklist-domain.txt\n",
    "    ! wget https://raw.githubusercontent.com/ARKseal/crawlingathome-worker/colab-gpu/crawlingathome_colab.py\n",
    "    ! touch /content/ready\n",
    "\n",
    "    print(\"You need to RE-RUN the script\")\n",
    "\n",
    "    import os\n",
    "    os.kill(os.getpid(), 9)\n"
   ]
  },
  {
   "cell_type": "code",
   "execution_count": null,
   "metadata": {},
   "outputs": [],
   "source": [
    "! python3 /content/crawlingathome_colab.py --name \"{YOUR_NICKNAME_FOR_THE_LEADERBOARD}\" --url \"{CRAWLINGATHOME_SERVER_URL}\""
   ]
  }
 ]
}