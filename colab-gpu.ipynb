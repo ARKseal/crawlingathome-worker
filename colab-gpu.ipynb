{
 "cells": [
  {
   "cell_type": "code",
   "execution_count": null,
   "metadata": {},
   "outputs": [],
   "source": [
    "#@title Crawling@Home Worker Colab\r\n",
    "YOUR_NICKNAME_FOR_THE_LEADERBOARD = \"ARKseal\" #@param {type:\"string\"}\r\n",
    "CRAWLINGATHOME_SERVER_URL = \"http://cah.io.community/\" #@param {type:\"string\"}"
   ]
  },
  {
   "cell_type": "code",
   "execution_count": null,
   "metadata": {},
   "outputs": [],
   "source": [
    "import subprocess\r\n",
    "\r\n",
    "try:\r\n",
    "    CUDA_version = [s for s in subprocess.check_output([\"nvcc\", \"--version\"]).decode(\"UTF-8\").split(\", \") if s.startswith(\"release\")][0].split(\" \")[-1]\r\n",
    "    print(\"CUDA version:\", CUDA_version)\r\n",
    "\r\n",
    "    if CUDA_version == \"10.0\":\r\n",
    "        torch_version_suffix = \"+cu100\"\r\n",
    "    elif CUDA_version == \"10.1\":\r\n",
    "        torch_version_suffix = \"+cu101\"\r\n",
    "    elif CUDA_version == \"10.2\":\r\n",
    "        torch_version_suffix = \"\" # default torch is cuda 10.2\r\n",
    "    elif CUDA_version == \"11.0\":\r\n",
    "        torch_version_suffix = \"+cu110\"\r\n",
    "    else:\r\n",
    "        torch_version_suffix = \"\"\r\n",
    "except:\r\n",
    "    torch_version_suffix = \"+cpu\" # cpu only torch"
   ]
  },
  {
   "cell_type": "code",
   "execution_count": null,
   "metadata": {},
   "outputs": [],
   "source": [
    "! rm setup_colab.sh; wget https://raw.githubusercontent.com/ARKseal/crawlingathome-worker/master/setup_colab.sh\n",
    "! source setup_colab.sh {torch_version_suffix}"
   ]
  },
  {
   "cell_type": "code",
   "execution_count": null,
   "metadata": {},
   "outputs": [],
   "source": [
    "! wget https://github.com/protocolbuffers/protobuf/releases/download/v3.17.3/protoc-3.17.3-linux-x86_64.zip\r\n",
    "! unzip protoc-3.17.3-linux-x86_64.zip\r\n",
    "! rm /usr/bin/protoc\r\n",
    "! mv ./bin/protoc /usr/bin\r\n",
    "! chmod +x /usr/bin/protoc"
   ]
  },
  {
   "cell_type": "code",
   "execution_count": null,
   "metadata": {},
   "outputs": [],
   "source": [
    "! source ./venv/bin/activate; python3 ./crawlingathome.py --name '{YOUR_NICKNAME_FOR_THE_LEADERBOARD}' --url '{CRAWLINGATHOME_SERVER_URL}'"
   ]
  }
 ],
 "metadata": {
  "interpreter": {
   "hash": "7b47fd11719e6a2754cf258c244b3de2ee50697b576fe3e5ad5f917bb669a6e4"
  },
  "kernelspec": {
   "display_name": "Python 3.8.9 64-bit ('crawl-env': venv)",
   "name": "python3"
  },
  "language_info": {
   "name": "python",
   "version": ""
  },
  "orig_nbformat": 4
 },
 "nbformat": 4,
 "nbformat_minor": 2
}