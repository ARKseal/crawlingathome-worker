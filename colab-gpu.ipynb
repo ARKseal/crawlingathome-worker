{
 "metadata": {
  "language_info": {
   "codemirror_mode": {
    "name": "ipython",
    "version": 3
   },
   "file_extension": ".py",
   "mimetype": "text/x-python",
   "name": "python",
   "nbconvert_exporter": "python",
   "pygments_lexer": "ipython3",
   "version": 3
  },
  "orig_nbformat": 4
 },
 "nbformat": 4,
 "nbformat_minor": 2,
 "cells": [
  {
   "cell_type": "code",
   "execution_count": null,
   "metadata": {},
   "outputs": [],
   "source": [
    "#@title Crawling@Home Worker Colab\n",
    "YOUR_NICKNAME_FOR_THE_LEADERBOARD = \"ARKseal\" #@param {type:\"string\"}\n",
    "CRAWLINGATHOME_SERVER_URL = \"http://crawlingathome.duckdns.org/\" #@param {type:\"string\"}"
   ]
  },
  {
   "cell_type": "code",
   "execution_count": null,
   "metadata": {},
   "outputs": [],
   "source": [
    "import subprocess\n",
    " \n",
    "CUDA_version = [s for s in subprocess.check_output([\"nvcc\", \"--version\"]).decode(\"UTF-8\").split(\", \") if s.startswith(\"release\")][0].split(\" \")[-1]\n",
    "print(\"CUDA version:\", CUDA_version)\n",
    " \n",
    "if CUDA_version == \"10.0\":\n",
    "    torch_version_suffix = \"+cu100\"\n",
    "elif CUDA_version == \"10.1\":\n",
    "    torch_version_suffix = \"+cu101\"\n",
    "elif CUDA_version == \"10.2\":\n",
    "    torch_version_suffix = \"+cu101\"\n",
    "elif CUDA_version == \"11.0\":\n",
    "    torch_version_suffix = \"+cu110\"\n",
    "else:\n",
    "    torch_version_suffix = \"\""
   ]
  },
  {
   "cell_type": "code",
   "execution_count": null,
   "metadata": {},
   "outputs": [],
   "source": [
    "! rm setup_colab.sh; wget https://raw.githubusercontent.com/ARKseal/crawlingathome-worker/master/setup_colab.sh\n",
    "! source setup_colab.sh {torch_version_suffix}"
   ]
  },
  {
   "cell_type": "code",
   "execution_count": null,
   "metadata": {},
   "outputs": [],
   "source": [
    "! source ./venv/bin/activate; python3 ./crawlingathome.py --name \"{YOUR_NICKNAME_FOR_THE_LEADERBOARD}\" --url \"{CRAWLINGATHOME_SERVER_URL}\""
   ]
  }
 ]
}